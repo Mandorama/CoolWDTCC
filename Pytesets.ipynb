{
 "cells": [
  {
   "cell_type": "code",
   "execution_count": 1,
   "id": "89f55ab9-b637-4c07-821f-7f2f856347cf",
   "metadata": {},
   "outputs": [],
   "source": [
    "import math\n",
    "import numpy as np\n",
    "import pandas as pd\n",
    "import scipy.constants as scc\n",
    "import matplotlib.pyplot as plt\n",
    "import warnings\n",
    "from astropy.modeling import models\n",
    "from astropy import units as u\n",
    "from specutils.spectra import Spectrum1D, SpectralRegion\n",
    "from specutils.fitting import fit_generic_continuum\n",
    "from specutils.fitting import fit_lines"
   ]
  },
  {
   "cell_type": "code",
   "execution_count": 2,
   "id": "29987577-8593-43c3-82cf-5d3c51f34a22",
   "metadata": {},
   "outputs": [],
   "source": [
    "Grid = pd.read_csv(\"GridCLEAN.csv\")"
   ]
  },
  {
   "cell_type": "code",
   "execution_count": 3,
   "id": "9fa18e96-d92b-4338-9bdb-de642d6a8eed",
   "metadata": {},
   "outputs": [
    {
     "data": {
      "text/plain": [
       "121"
      ]
     },
     "execution_count": 3,
     "metadata": {},
     "output_type": "execute_result"
    }
   ],
   "source": [
    "k = Grid.sample().index[0]\n",
    "k"
   ]
  },
  {
   "cell_type": "code",
   "execution_count": 5,
   "id": "6f8ace2a-bd37-4a6d-a655-698ddf175c2a",
   "metadata": {},
   "outputs": [],
   "source": [
    "Balmer_Series = np.array([6562.79,4861.35,4340.472,4101.734,3970.075,3889.064,3835.064,3797.909,3770.633])\n",
    "Tolerancia = np.array([300,300,150,100,60,30,30,20,20])\n",
    "limplotinf_syns = 10755\n",
    "limplotsup_syns = 19039"
   ]
  },
  {
   "cell_type": "code",
   "execution_count": 6,
   "id": "6e2a0873-29b3-4042-a073-2eb6326c2a4e",
   "metadata": {},
   "outputs": [],
   "source": [
    "Data = pd.read_csv(Grid.Arquivo[k],header=None,sep=\"\\s+\")\n",
    "spacial = np.array(Data[0].copy())*u.Angstrom\n",
    "flux = np.array(Data[1].copy())*u.Unit(\"erg / (Angstrom cm2 s)\")\n",
    "spectrum = Spectrum1D(flux=flux[limplotinf_syns:limplotsup_syns], spectral_axis=spacial[limplotinf_syns:limplotsup_syns])"
   ]
  },
  {
   "cell_type": "code",
   "execution_count": 20,
   "id": "e9c3811d-8894-4a2c-bdd5-d970461b9a2d",
   "metadata": {},
   "outputs": [],
   "source": [
    "def trtr(tr):\n",
    "    return True"
   ]
  },
  {
   "cell_type": "code",
   "execution_count": 21,
   "id": "33771272-9a01-4b50-bfc9-ef905e0ecdaf",
   "metadata": {},
   "outputs": [
    {
     "name": "stdout",
     "output_type": "stream",
     "text": [
      "1\n"
     ]
    }
   ],
   "source": [
    "if trtr(2):\n",
    "    print(1)"
   ]
  },
  {
   "cell_type": "code",
   "execution_count": null,
   "id": "a52cbbed-8a77-4221-8783-bdd6d2af65d1",
   "metadata": {},
   "outputs": [],
   "source": []
  }
 ],
 "metadata": {
  "kernelspec": {
   "display_name": "Python 3 (ipykernel)",
   "language": "python",
   "name": "python3"
  },
  "language_info": {
   "codemirror_mode": {
    "name": "ipython",
    "version": 3
   },
   "file_extension": ".py",
   "mimetype": "text/x-python",
   "name": "python",
   "nbconvert_exporter": "python",
   "pygments_lexer": "ipython3",
   "version": "3.9.15"
  }
 },
 "nbformat": 4,
 "nbformat_minor": 5
}
